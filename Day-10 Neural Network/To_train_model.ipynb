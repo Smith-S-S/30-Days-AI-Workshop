{
 "cells": [
  {
   "cell_type": "code",
   "execution_count": null,
   "id": "72f5b4f2",
   "metadata": {
    "scrolled": true
   },
   "outputs": [],
   "source": [
    "pip install keras==2.2.5\n",
    "\n"
   ]
  },
  {
   "cell_type": "code",
   "execution_count": null,
   "id": "bfe049b6",
   "metadata": {},
   "outputs": [],
   "source": [
    "import keras\n",
    "keras.__version__\n",
    "import numpy\n"
   ]
  },
  {
   "cell_type": "code",
   "execution_count": null,
   "id": "7d0b28e8",
   "metadata": {},
   "outputs": [],
   "source": [
    "pip install tensorflow==1.14.0 "
   ]
  },
  {
   "cell_type": "code",
   "execution_count": null,
   "id": "42a8fa70",
   "metadata": {},
   "outputs": [],
   "source": [
    "import tensorflow\n",
    "tensorflow.__version__"
   ]
  },
  {
   "cell_type": "code",
   "execution_count": null,
   "id": "41a14d70",
   "metadata": {},
   "outputs": [],
   "source": [
    "from keras.engine.saving import load_attributes_from_hdf5_group\n",
    "from numpy import loadtxt\n",
    "\n",
    "from keras import Sequential #organise the layer \n",
    "\n",
    "from keras.layers import Dense # adding layers\n",
    "\n",
    "datset =loadtxt(\"pima-indians-diabetes.csv\",delimiter=\",\")\n",
    "\n",
    "# going to seperate the ip and op\n",
    "\n",
    "x=datset[0,0:8]\n",
    "y=datset[0,8]"
   ]
  },
  {
   "cell_type": "code",
   "execution_count": null,
   "id": "424fe1e8",
   "metadata": {},
   "outputs": [],
   "source": [
    "# designing the neural network\n",
    "\n",
    "model=Sequential()\n",
    "model.add(Dense(12,input_dim=8,ativation='relu')) # input is 8 \n",
    "model.add(Dense(8,ativation='relu'))\n",
    "model.add(Dense(1,ativation='sigmoid')) # 1 neuron at out\n",
    "\n",
    "\n",
    "#compile\n",
    "\n",
    "model.compile(loss=\"binary_crossentorpy\",optimizer=\"adam\",metrics=['accuracy'])\n",
    "\n",
    "\n",
    "model.fit(x, y, epochs=50, batch_size=10)\n",
    "_,accuracy = model.evaluate (x,y)\n",
    "\n",
    "print ('Accuracy: %.2f' % (accuracy*100) )\n",
    "\n",
    "\n",
    "model_Json = model.to_json()\n",
    "\n",
    "with open (\"model.json\",\"w\") as json_file:\n",
    "  json_file.write(model_json)\n",
    "model.save_weights(\"model.h5\")\n",
    "print (\"Saved model to disk\")\n"
   ]
  }
 ],
 "metadata": {
  "kernelspec": {
   "display_name": "Python 3 (ipykernel)",
   "language": "python",
   "name": "python3"
  },
  "language_info": {
   "codemirror_mode": {
    "name": "ipython",
    "version": 3
   },
   "file_extension": ".py",
   "mimetype": "text/x-python",
   "name": "python",
   "nbconvert_exporter": "python",
   "pygments_lexer": "ipython3",
   "version": "3.9.7"
  }
 },
 "nbformat": 4,
 "nbformat_minor": 5
}
