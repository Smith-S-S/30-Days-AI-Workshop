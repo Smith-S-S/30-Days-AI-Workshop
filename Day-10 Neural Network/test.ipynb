{
 "cells": [
  {
   "cell_type": "markdown",
   "id": "61281528",
   "metadata": {},
   "source": [
    "#  For testing the inputs"
   ]
  },
  {
   "cell_type": "code",
   "execution_count": null,
   "id": "77f036bd",
   "metadata": {},
   "outputs": [],
   "source": [
    "from numpy import loadtxt\n",
    "\n",
    "from keras.models import model_from_json\n",
    "\n",
    "dataset = loadtxt ('pima-indians-diabetes.csv', delimiter=\",\")\n",
    "\n",
    "X = dataset [:,0:8]\n",
    "\n",
    "y = dataset[:,8]\n",
    "\n",
    "json_file = open('model.json', 'r') \n",
    "loaded_model_json = json_file.read()\n",
    "json_file.close()\n",
    "\n",
    "model= model_from_json(loaded_model_json)\n",
    "model.load weights (\"model.h5\") \n",
    "print (\"Loaded model from disk\")"
   ]
  },
  {
   "cell_type": "code",
   "execution_count": null,
   "id": "f287cc50",
   "metadata": {},
   "outputs": [],
   "source": [
    "predictions = model.predict_classes (x[2:4],:)\n"
   ]
  }
 ],
 "metadata": {
  "kernelspec": {
   "display_name": "Python 3 (ipykernel)",
   "language": "python",
   "name": "python3"
  },
  "language_info": {
   "codemirror_mode": {
    "name": "ipython",
    "version": 3
   },
   "file_extension": ".py",
   "mimetype": "text/x-python",
   "name": "python",
   "nbconvert_exporter": "python",
   "pygments_lexer": "ipython3",
   "version": "3.9.7"
  }
 },
 "nbformat": 4,
 "nbformat_minor": 5
}
